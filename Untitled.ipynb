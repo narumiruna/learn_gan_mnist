{
 "cells": [
  {
   "cell_type": "code",
   "execution_count": 1,
   "metadata": {},
   "outputs": [],
   "source": [
    "import tensorflow as tf\n",
    "from tensorflow.examples.tutorials.mnist import input_data\n",
    "from ops import dense, conv2d, conv2d_transpose\n",
    "import numpy as np"
   ]
  },
  {
   "cell_type": "code",
   "execution_count": 2,
   "metadata": {},
   "outputs": [
    {
     "name": "stdout",
     "output_type": "stream",
     "text": [
      "Extracting MNIST\\train-images-idx3-ubyte.gz\n",
      "Extracting MNIST\\train-labels-idx1-ubyte.gz\n",
      "Extracting MNIST\\t10k-images-idx3-ubyte.gz\n",
      "Extracting MNIST\\t10k-labels-idx1-ubyte.gz\n"
     ]
    }
   ],
   "source": [
    "\n",
    "\n",
    "batch_size = 64\n",
    "\n",
    "\n",
    "keep_prob = tf.placeholder(dtype=tf.float32)\n",
    "z = tf.placeholder(dtype=tf.float32, shape=[None, 100])\n",
    "x = tf.placeholder(dtype=tf.float32, shape=[None, 28, 28, 1])\n",
    "\n",
    "\n",
    "def build_generator(input_):\n",
    "    with tf.variable_scope('generator', reuse=tf.AUTO_REUSE):\n",
    "        dense_1 = dense(input_, 7 * 7 * 64, activation=tf.nn.relu, name='dense_1')\n",
    "        drop_1 = tf.nn.dropout(dense_1, keep_prob)\n",
    "\n",
    "        reshape_1 = tf.reshape(drop_1, shape=[-1, 7, 7, 64])\n",
    "\n",
    "        deconv_1 = conv2d_transpose(reshape_1, batch_size, 14, 14, 5, 32, strides=[1, 2, 2, 1], activation=tf.nn.relu, name='deconv_1')\n",
    "        drop_2 = tf.nn.dropout(deconv_1, keep_prob)\n",
    "\n",
    "        deconv_2 = conv2d_transpose(drop_2, batch_size, 28, 28, 5, 1, strides=[1, 2, 2, 1], activation=tf.nn.relu, name='deconv_2')\n",
    "        drop_3 = tf.nn.dropout(deconv_2, keep_prob)\n",
    "\n",
    "        return drop_3\n",
    "\n",
    "\n",
    "def build_discriminator(input_):\n",
    "    with tf.variable_scope('discriminator', reuse=tf.AUTO_REUSE):\n",
    "        conv_1 = conv2d(input_, 5, 32, activation=tf.nn.relu, name='conv_1')\n",
    "        pool_1 = tf.nn.avg_pool(conv_1, ksize=[1, 2, 2, 1], strides=[1, 2, 2, 1], padding='SAME')\n",
    "        drop_1 = tf.nn.dropout(pool_1, keep_prob)\n",
    "\n",
    "        conv_2 = conv2d(drop_1, 5, 64, activation=tf.nn.relu, name='conv_2')\n",
    "        pool_2 = tf.nn.avg_pool(conv_2, ksize=[1, 2, 2, 1], strides=[1, 2, 2, 1], padding='SAME')\n",
    "        drop_2 = tf.nn.dropout(pool_2, keep_prob)\n",
    "\n",
    "        flatten_1 = tf.reshape(drop_2, shape=[-1, 7 * 7 * 64])\n",
    "        dense_1 = dense(flatten_1, 1024, activation=tf.nn.relu, name='dense_1')\n",
    "        drop_3 = tf.nn.dropout(dense_1, keep_prob)\n",
    "\n",
    "        dense_2 = dense(drop_3, 1, name='dense_2')\n",
    "        return dense_2\n",
    "\n",
    "g = build_generator(z)\n",
    "\n",
    "d_x = build_discriminator(x)\n",
    "d_z = build_discriminator(g)\n",
    "\n",
    "\n",
    "d_var = tf.get_collection(tf.GraphKeys.GLOBAL_VARIABLES, scope='discriminator')\n",
    "g_var = tf.get_collection(tf.GraphKeys.GLOBAL_VARIABLES, scope='generator')\n",
    "\n",
    "\n",
    "loss_d = tf.reduce_mean(- d_x) + tf.reduce_mean(d_z)\n",
    "loss_g = tf.reduce_mean(- d_z)\n",
    "\n",
    "\n",
    "d_minimizer = tf.train.RMSPropOptimizer(0.00005).minimize(loss_d, var_list=d_var)\n",
    "g_minimizer = tf.train.RMSPropOptimizer(0.00005).minimize(loss_g, var_list=g_var)\n",
    "\n",
    "\n",
    "mnist = input_data.read_data_sets('MNIST')\n",
    "\n",
    "\n",
    "\n"
   ]
  },
  {
   "cell_type": "code",
   "execution_count": null,
   "metadata": {},
   "outputs": [
    {
     "data": {
      "text/plain": [
       "<tf.Tensor 'add:0' shape=() dtype=float32>"
      ]
     },
     "execution_count": 3,
     "metadata": {},
     "output_type": "execute_result"
    }
   ],
   "source": [
    "loss_d\n"
   ]
  },
  {
   "cell_type": "code",
   "execution_count": null,
   "metadata": {},
   "outputs": [
    {
     "name": "stdout",
     "output_type": "stream",
     "text": [
      "[1.9669175, -1.9764392]\n",
      "[0.76188987, -0.77175772]\n",
      "[1.2685288, -1.2777532]\n",
      "[1.2659986, -1.2750313]\n",
      "[-0.078442171, 0.069304243]\n",
      "[0.09810327, -0.1071348]\n",
      "[-0.90734744, 0.89848101]\n",
      "[-3.2241201, 3.2157969]\n",
      "[-4.5710955, 4.5633559]\n",
      "[-7.223465, 7.2153087]\n",
      "[-9.3705759, 9.3633823]\n",
      "[-12.521034, 12.513301]\n"
     ]
    }
   ],
   "source": [
    "random_normal = tf.random_normal([batch_size, 100])\n",
    "c= 0.01\n",
    "with tf.Session() as sess:\n",
    "    sess.run(tf.global_variables_initializer())\n",
    "\n",
    "    for i in range(10000):\n",
    "        for j in range(10):\n",
    "            \n",
    "            batch_x, _ = mnist.train.next_batch(batch_size)\n",
    "            batch_x = np.reshape(batch_x, [-1, 28,28,1])\n",
    "            batch_z = sess.run(random_normal)\n",
    "            sess.run(d_minimizer, feed_dict={x:batch_x, z:batch_z , keep_prob:0.5})\n",
    "            clip = [v.assign(tf.clip_by_value(v, -c, c)) for v in d_var]\n",
    "            sess.run(clip)\n",
    "                \n",
    "        \n",
    "        sess.run(g_minimizer , feed_dict={z:batch_z, keep_prob:0.5})\n",
    "#         if i%100==0:\n",
    "        print(sess.run([loss_d, loss_g], feed_dict={x:batch_x, z:batch_z , keep_prob:0.5}))"
   ]
  },
  {
   "cell_type": "code",
   "execution_count": null,
   "metadata": {},
   "outputs": [],
   "source": [
    "random_normal"
   ]
  },
  {
   "cell_type": "code",
   "execution_count": null,
   "metadata": {},
   "outputs": [],
   "source": []
  }
 ],
 "metadata": {
  "kernelspec": {
   "display_name": "Python 3",
   "language": "python",
   "name": "python3"
  },
  "language_info": {
   "codemirror_mode": {
    "name": "ipython",
    "version": 3
   },
   "file_extension": ".py",
   "mimetype": "text/x-python",
   "name": "python",
   "nbconvert_exporter": "python",
   "pygments_lexer": "ipython3",
   "version": "3.6.3"
  }
 },
 "nbformat": 4,
 "nbformat_minor": 2
}
